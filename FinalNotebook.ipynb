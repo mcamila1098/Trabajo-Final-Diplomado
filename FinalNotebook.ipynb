{
 "cells": [
  {
   "cell_type": "markdown",
   "id": "bbc0f329-b7ab-46d4-a4b3-acbbedfee477",
   "metadata": {},
   "source": [
    "# APLICACIÓN DE LA CIENCIA DE DATOS EN EL DESARROLLO DE UN PRODUCTO DE DATOS PARA LA PREDICCIÓN DEL CONSUMO ENERGÉTICO Y LA ESTIMACIÓN DEL COSTO EN UNA VIVIENDA, QUE PERMITA MEJORAR LA TOMA DE DECISIONES ORIENTADAS A SU SEGUIMIENTO Y CONTROL"
   ]
  },
  {
   "cell_type": "markdown",
   "id": "0dd780ba-b734-4d57-9f0e-623989f9ebb4",
   "metadata": {},
   "source": [
    "## Presentado por:\n",
    "<ul>\n",
    "    <li>Aldemar Bernal Hernandez</li>\n",
    "    <li>Maria Camila Alvarez Perdomo</li>\n",
    "</ul>\n"
   ]
  },
  {
   "cell_type": "code",
   "execution_count": 1,
   "id": "acca8c8f-ef3d-4c83-a2e2-2f4275610ae1",
   "metadata": {},
   "outputs": [],
   "source": [
    "# Librerías Básicas\n",
    "import numpy as np\n",
    "import pandas as pd\n",
    "import matplotlib\n",
    "import matplotlib.pyplot as plt\n",
    "import seaborn as sns\n",
    "\n",
    "%matplotlib inline\n",
    "\n",
    "# Modelado y Forecasting\n",
    "\n",
    "from sklearn.linear_model import Ridge\n",
    "from lightgbm import LGBMRegressor\n",
    "from sklearn.pipeline import make_pipeline\n",
    "from sklearn.preprocessing import StandardScaler\n",
    "from sklearn.metrics import mean_absolute_error\n",
    "from skforecast.ForecasterAutoreg import ForecasterAutoreg\n",
    "from skforecast.ForecasterAutoregMultiOutput import ForecasterAutoregMultiOutput\n",
    "from skforecast.model_selection import grid_search_forecaster\n",
    "from skforecast.model_selection import backtesting_forecaster"
   ]
  },
  {
   "cell_type": "code",
   "execution_count": 2,
   "id": "5d411483-237f-4682-bb19-c77a6dbf137f",
   "metadata": {},
   "outputs": [],
   "source": [
    "# Datasets\n",
    "file_path = \"HomeA/2014/AÑOXTEM.csv\"\n",
    "df = pd.read_csv(file_path)\n",
    "\n",
    "file_path_2015 = \"HomeA/2015/HomeA-meter2_2015.csv\"\n",
    "df2015 = pd.read_csv(file_path_2015)\n",
    "\n",
    "# Algunas mediciones en minutos\n",
    "file_path_2016 = \"HomeA/2016/HomeA-meter2_2016.csv\"\n",
    "df2016 = pd.read_csv(file_path_2016)"
   ]
  },
  {
   "cell_type": "code",
   "execution_count": 3,
   "id": "f2711c1b-1c3a-40b1-845a-56e9193be5ae",
   "metadata": {},
   "outputs": [
    {
     "name": "stdout",
     "output_type": "stream",
     "text": [
      "(17522, 14)\n",
      "(17522, 14)\n",
      "(246641, 14)\n"
     ]
    }
   ],
   "source": [
    "# Tamaños de los datasets sin limpieza\n",
    "print(df.shape)\n",
    "print(df2015.shape)\n",
    "print(df2016.shape)"
   ]
  },
  {
   "cell_type": "code",
   "execution_count": 4,
   "id": "8cabdd15-d032-4f3b-b8f7-1ab8f105da3e",
   "metadata": {},
   "outputs": [
    {
     "name": "stdout",
     "output_type": "stream",
     "text": [
      "<class 'pandas.core.frame.DataFrame'>\n",
      "RangeIndex: 17522 entries, 0 to 17521\n",
      "Data columns (total 14 columns):\n",
      " #   Column                   Non-Null Count  Dtype  \n",
      "---  ------                   --------------  -----  \n",
      " 0   Date                     17522 non-null  object \n",
      " 1   use [kW]                 17522 non-null  float64\n",
      " 2   gen [kW]                 17522 non-null  float64\n",
      " 3   FurnaceHRV [kW]          17522 non-null  float64\n",
      " 4   CellarOutlets [kW]       17522 non-null  float64\n",
      " 5   WashingMachine [kW]      17522 non-null  float64\n",
      " 6   FridgeRange [kW]         17522 non-null  float64\n",
      " 7   DisposalDishwasher [kW]  17522 non-null  float64\n",
      " 8   KitchenLights [kW]       17522 non-null  float64\n",
      " 9   BedroomOutlets [kW]      17522 non-null  float64\n",
      " 10  BedroomLights [kW]       17522 non-null  float64\n",
      " 11  MasterOutlets [kW]       17522 non-null  float64\n",
      " 12  MasterLights [kW]        17522 non-null  float64\n",
      " 13  DuctHeaterHRV [kW]       17522 non-null  float64\n",
      "dtypes: float64(13), object(1)\n",
      "memory usage: 1.9+ MB\n"
     ]
    }
   ],
   "source": [
    "# Información total del dataset\n",
    "df.info()"
   ]
  },
  {
   "cell_type": "markdown",
   "id": "62056c7e-1c38-47ae-8f3a-daf88c952c98",
   "metadata": {},
   "source": [
    "### kWh es una medida de energía, mientras que kW es una medida de potencia eléctrica, para tratar el dataset correctamente debemos transformar las mediciones.\n",
    "### Debido a que las mediciones se encuentran en kW (Kilovatio), debemos convertirlas a kWh (Kilovatio-hora). El cálculo es el siguiente: "
   ]
  },
  {
   "cell_type": "markdown",
   "id": "87bfd77c-9bda-4290-a3ec-bec2b436e5eb",
   "metadata": {},
   "source": [
    "<center><h1><center>kWh  =   kW  *  h</center></h1>  "
   ]
  },
  {
   "cell_type": "markdown",
   "id": "825cab60-7201-4799-b9da-0f4094050023",
   "metadata": {},
   "source": [
    "#### Donde:\n",
    "#### kWh es la energía\n",
    "#### kW es la potencia eléctrica\n",
    "#### h es el tiempo en horas"
   ]
  },
  {
   "cell_type": "code",
   "execution_count": 5,
   "id": "a2dad31b-83e8-4933-8e5a-09a9a28a1ee9",
   "metadata": {},
   "outputs": [],
   "source": [
    "# Eliminar kW de los headers junto con las columnas innecesarias 2014\n",
    "df.columns = [col.replace(' [kW]', '') for col in df.columns]\n",
    "df = df.rename(columns={'Date': 'Time'})\n",
    "df.drop(['use', 'gen', 'CellarOutlets', 'BedroomOutlets', 'MasterOutlets'], axis=1, inplace=True)\n",
    "\n",
    "# Eliminar kW de los headers junto con las columnas innecesarias 2015\n",
    "df2015.columns = [colum.replace(' [kW]', '') for colum in df2015.columns]\n",
    "df2015 = df2015.rename(columns={'Date & Time': 'Time'})\n",
    "df2015.drop(['use', 'gen', 'CellarOutlets', 'BedroomOutlets', 'MasterOutlets'], axis=1, inplace=True)\n",
    "\n",
    "# Eliminar kW de los headers junto con las columnas innecesarias 2016\n",
    "df2016.columns = [columnas.replace(' [kW]', '') for columnas in df2016.columns]\n",
    "df2016 = df2016.rename(columns={'Date & Time': 'Time'})\n",
    "df2016.drop(['use', 'gen', 'CellarOutlets', 'BedroomOutlets', 'MasterOutlets'], axis=1, inplace=True)"
   ]
  },
  {
   "cell_type": "code",
   "execution_count": 6,
   "id": "3e5aa1a2-319a-4025-b175-8c8795fc32e8",
   "metadata": {},
   "outputs": [],
   "source": [
    "# Conversión del formato fecha, se convierte en datetime.\n",
    "# Una vez en formato datetime, y para hacer uso de las funcionalidades de pandas, se establece como índice. \n",
    "df['Time'] = pd.to_datetime(df['Time'])\n",
    "df = df.set_index('Time')\n",
    "df = df.sort_index()\n",
    "\n",
    "# 2015\n",
    "df2015['Time'] = pd.to_datetime(df2015['Time'])\n",
    "df2015 = df2015.set_index('Time')\n",
    "df2015 = df2015.sort_index()\n",
    "\n",
    "# 2016\n",
    "df2016['Time'] = pd.to_datetime(df2016['Time'])\n",
    "df2016 = df2016.set_index('Time')\n",
    "df2016 = df2016.sort_index()"
   ]
  },
  {
   "cell_type": "code",
   "execution_count": 7,
   "id": "074e172d-4c15-4f0a-847f-bcb5b52fd317",
   "metadata": {
    "tags": []
   },
   "outputs": [],
   "source": [
    "# Agregado en intervalos de 1H, se realiza el promedio\n",
    "df = df.resample(rule='H', closed='left', label ='right').mean()\n",
    "\n",
    "#2015\n",
    "df2015 = df2015.resample(rule='H', closed='left', label ='right').mean()\n",
    "\n",
    "#2016\n",
    "df2016 = df2016.resample(rule='H', closed='left', label ='right').mean()"
   ]
  },
  {
   "cell_type": "code",
   "execution_count": 8,
   "id": "992f0689-d2c4-494c-8858-d2bfa7622d28",
   "metadata": {},
   "outputs": [],
   "source": [
    "# Comando para detectar valors NaN \n",
    "\n",
    "# Para el 2014 faltaron los datps de Marzo 9 a las 2-2:30\n",
    "# Para el 2015 faltaron los datos de Marzo 8 a las 2-2:30\n",
    "# Para el 2016 faltaron los datos de Marzo 13 a las 2-2:30\n",
    "\n",
    "# nan_rows = df2016[df2016.isnull().any(1)]\n",
    "# nan_rows.isnull()"
   ]
  },
  {
   "cell_type": "code",
   "execution_count": 9,
   "id": "6caae75b-25a4-48c8-90bf-d263859484ea",
   "metadata": {},
   "outputs": [
    {
     "name": "stdout",
     "output_type": "stream",
     "text": [
      "(8760, 8)\n",
      "(8760, 8)\n",
      "(8784, 8)\n"
     ]
    }
   ],
   "source": [
    "# Tamaños de los datasets sin limpieza\n",
    "print(df.shape)\n",
    "print(df2015.shape)\n",
    "print(df2016.shape)\n",
    "\n",
    "#2016 tiene más registros porque fue el año bisiesto"
   ]
  },
  {
   "cell_type": "code",
   "execution_count": 10,
   "id": "6fbb3538-8ed6-45f6-8d6b-2ac60888ce39",
   "metadata": {},
   "outputs": [
    {
     "data": {
      "text/html": [
       "<div>\n",
       "<style scoped>\n",
       "    .dataframe tbody tr th:only-of-type {\n",
       "        vertical-align: middle;\n",
       "    }\n",
       "\n",
       "    .dataframe tbody tr th {\n",
       "        vertical-align: top;\n",
       "    }\n",
       "\n",
       "    .dataframe thead th {\n",
       "        text-align: right;\n",
       "    }\n",
       "</style>\n",
       "<table border=\"1\" class=\"dataframe\">\n",
       "  <thead>\n",
       "    <tr style=\"text-align: right;\">\n",
       "      <th></th>\n",
       "      <th>FurnaceHRV</th>\n",
       "      <th>WashingMachine</th>\n",
       "      <th>FridgeRange</th>\n",
       "      <th>DisposalDishwasher</th>\n",
       "      <th>KitchenLights</th>\n",
       "      <th>BedroomLights</th>\n",
       "      <th>MasterLights</th>\n",
       "      <th>DuctHeaterHRV</th>\n",
       "    </tr>\n",
       "    <tr>\n",
       "      <th>Time</th>\n",
       "      <th></th>\n",
       "      <th></th>\n",
       "      <th></th>\n",
       "      <th></th>\n",
       "      <th></th>\n",
       "      <th></th>\n",
       "      <th></th>\n",
       "      <th></th>\n",
       "    </tr>\n",
       "  </thead>\n",
       "  <tbody>\n",
       "    <tr>\n",
       "      <th>2014-01-01 01:00:00</th>\n",
       "      <td>0.188748</td>\n",
       "      <td>0.005683</td>\n",
       "      <td>0.050515</td>\n",
       "      <td>0.005490</td>\n",
       "      <td>0.008677</td>\n",
       "      <td>0.006884</td>\n",
       "      <td>0.010139</td>\n",
       "      <td>0.329129</td>\n",
       "    </tr>\n",
       "    <tr>\n",
       "      <th>2014-01-01 02:00:00</th>\n",
       "      <td>0.158467</td>\n",
       "      <td>0.005653</td>\n",
       "      <td>0.048434</td>\n",
       "      <td>0.005477</td>\n",
       "      <td>0.003123</td>\n",
       "      <td>0.004873</td>\n",
       "      <td>0.010089</td>\n",
       "      <td>0.328092</td>\n",
       "    </tr>\n",
       "    <tr>\n",
       "      <th>2014-01-01 03:00:00</th>\n",
       "      <td>0.111822</td>\n",
       "      <td>0.005586</td>\n",
       "      <td>0.043357</td>\n",
       "      <td>0.005429</td>\n",
       "      <td>0.003115</td>\n",
       "      <td>0.004841</td>\n",
       "      <td>0.010002</td>\n",
       "      <td>0.325534</td>\n",
       "    </tr>\n",
       "    <tr>\n",
       "      <th>2014-01-01 04:00:00</th>\n",
       "      <td>0.068529</td>\n",
       "      <td>0.005560</td>\n",
       "      <td>0.044769</td>\n",
       "      <td>0.005432</td>\n",
       "      <td>0.003131</td>\n",
       "      <td>0.004846</td>\n",
       "      <td>0.010033</td>\n",
       "      <td>0.323582</td>\n",
       "    </tr>\n",
       "    <tr>\n",
       "      <th>2014-01-01 05:00:00</th>\n",
       "      <td>0.074540</td>\n",
       "      <td>0.005565</td>\n",
       "      <td>0.044778</td>\n",
       "      <td>0.005469</td>\n",
       "      <td>0.004444</td>\n",
       "      <td>0.004870</td>\n",
       "      <td>0.010085</td>\n",
       "      <td>0.324708</td>\n",
       "    </tr>\n",
       "    <tr>\n",
       "      <th>...</th>\n",
       "      <td>...</td>\n",
       "      <td>...</td>\n",
       "      <td>...</td>\n",
       "      <td>...</td>\n",
       "      <td>...</td>\n",
       "      <td>...</td>\n",
       "      <td>...</td>\n",
       "      <td>...</td>\n",
       "    </tr>\n",
       "    <tr>\n",
       "      <th>2016-12-31 20:00:00</th>\n",
       "      <td>0.064502</td>\n",
       "      <td>0.000370</td>\n",
       "      <td>0.000995</td>\n",
       "      <td>0.000118</td>\n",
       "      <td>0.000016</td>\n",
       "      <td>0.004667</td>\n",
       "      <td>0.013964</td>\n",
       "      <td>0.000061</td>\n",
       "    </tr>\n",
       "    <tr>\n",
       "      <th>2016-12-31 21:00:00</th>\n",
       "      <td>0.094019</td>\n",
       "      <td>0.000468</td>\n",
       "      <td>0.000991</td>\n",
       "      <td>0.000139</td>\n",
       "      <td>0.000017</td>\n",
       "      <td>0.004696</td>\n",
       "      <td>0.014089</td>\n",
       "      <td>0.000067</td>\n",
       "    </tr>\n",
       "    <tr>\n",
       "      <th>2016-12-31 22:00:00</th>\n",
       "      <td>0.113943</td>\n",
       "      <td>0.000519</td>\n",
       "      <td>0.000991</td>\n",
       "      <td>0.000154</td>\n",
       "      <td>0.000018</td>\n",
       "      <td>0.004722</td>\n",
       "      <td>0.014261</td>\n",
       "      <td>0.000072</td>\n",
       "    </tr>\n",
       "    <tr>\n",
       "      <th>2016-12-31 23:00:00</th>\n",
       "      <td>0.102849</td>\n",
       "      <td>0.000314</td>\n",
       "      <td>0.001003</td>\n",
       "      <td>0.000105</td>\n",
       "      <td>0.000012</td>\n",
       "      <td>0.004690</td>\n",
       "      <td>0.014118</td>\n",
       "      <td>0.000058</td>\n",
       "    </tr>\n",
       "    <tr>\n",
       "      <th>2017-01-01 00:00:00</th>\n",
       "      <td>0.103531</td>\n",
       "      <td>0.000101</td>\n",
       "      <td>0.001036</td>\n",
       "      <td>0.000024</td>\n",
       "      <td>0.000010</td>\n",
       "      <td>0.004655</td>\n",
       "      <td>0.014033</td>\n",
       "      <td>0.000043</td>\n",
       "    </tr>\n",
       "  </tbody>\n",
       "</table>\n",
       "<p>26304 rows × 8 columns</p>\n",
       "</div>"
      ],
      "text/plain": [
       "                     FurnaceHRV  WashingMachine  FridgeRange  \\\n",
       "Time                                                           \n",
       "2014-01-01 01:00:00    0.188748        0.005683     0.050515   \n",
       "2014-01-01 02:00:00    0.158467        0.005653     0.048434   \n",
       "2014-01-01 03:00:00    0.111822        0.005586     0.043357   \n",
       "2014-01-01 04:00:00    0.068529        0.005560     0.044769   \n",
       "2014-01-01 05:00:00    0.074540        0.005565     0.044778   \n",
       "...                         ...             ...          ...   \n",
       "2016-12-31 20:00:00    0.064502        0.000370     0.000995   \n",
       "2016-12-31 21:00:00    0.094019        0.000468     0.000991   \n",
       "2016-12-31 22:00:00    0.113943        0.000519     0.000991   \n",
       "2016-12-31 23:00:00    0.102849        0.000314     0.001003   \n",
       "2017-01-01 00:00:00    0.103531        0.000101     0.001036   \n",
       "\n",
       "                     DisposalDishwasher  KitchenLights  BedroomLights  \\\n",
       "Time                                                                    \n",
       "2014-01-01 01:00:00            0.005490       0.008677       0.006884   \n",
       "2014-01-01 02:00:00            0.005477       0.003123       0.004873   \n",
       "2014-01-01 03:00:00            0.005429       0.003115       0.004841   \n",
       "2014-01-01 04:00:00            0.005432       0.003131       0.004846   \n",
       "2014-01-01 05:00:00            0.005469       0.004444       0.004870   \n",
       "...                                 ...            ...            ...   \n",
       "2016-12-31 20:00:00            0.000118       0.000016       0.004667   \n",
       "2016-12-31 21:00:00            0.000139       0.000017       0.004696   \n",
       "2016-12-31 22:00:00            0.000154       0.000018       0.004722   \n",
       "2016-12-31 23:00:00            0.000105       0.000012       0.004690   \n",
       "2017-01-01 00:00:00            0.000024       0.000010       0.004655   \n",
       "\n",
       "                     MasterLights  DuctHeaterHRV  \n",
       "Time                                              \n",
       "2014-01-01 01:00:00      0.010139       0.329129  \n",
       "2014-01-01 02:00:00      0.010089       0.328092  \n",
       "2014-01-01 03:00:00      0.010002       0.325534  \n",
       "2014-01-01 04:00:00      0.010033       0.323582  \n",
       "2014-01-01 05:00:00      0.010085       0.324708  \n",
       "...                           ...            ...  \n",
       "2016-12-31 20:00:00      0.013964       0.000061  \n",
       "2016-12-31 21:00:00      0.014089       0.000067  \n",
       "2016-12-31 22:00:00      0.014261       0.000072  \n",
       "2016-12-31 23:00:00      0.014118       0.000058  \n",
       "2017-01-01 00:00:00      0.014033       0.000043  \n",
       "\n",
       "[26304 rows x 8 columns]"
      ]
     },
     "execution_count": 10,
     "metadata": {},
     "output_type": "execute_result"
    }
   ],
   "source": [
    "# Unir datasets\n",
    "\n",
    "join = [df, df2015, df2016]\n",
    "result = pd.concat(join)\n",
    "result"
   ]
  },
  {
   "cell_type": "markdown",
   "id": "c13f3adc-9ffa-4527-990f-3b9d092b7f61",
   "metadata": {},
   "source": [
    "## Análisis Exploratorio de Datos"
   ]
  },
  {
   "cell_type": "code",
   "execution_count": 11,
   "id": "8e1fd05f-0c94-4c47-9c44-87155d8b3376",
   "metadata": {},
   "outputs": [
    {
     "data": {
      "image/png": "[encoded data removed]",
      "text/plain": [
       "<Figure size 504x252 with 1 Axes>"
      ]
     },
     "metadata": {
      "needs_background": "light"
     },
     "output_type": "display_data"
    }
   ],
   "source": [
    "# Comportamiento mensual para FurnaceHRV \n",
    "\n",
    "fig, ax = plt.subplots(figsize=(7, 3.5))\n",
    "result['Mes'] = result.index.month\n",
    "result.boxplot(column='FurnaceHRV', by='Mes', ax=ax,)\n",
    "result.groupby('Mes')['FurnaceHRV'].median().plot(style='o-', linewidth=0.8, ax=ax)\n",
    "ax.set_ylabel('FurnaceHRV')\n",
    "ax.set_title('Distribución demanda por mes')\n",
    "fig.suptitle('');"
   ]
  },
  {
   "cell_type": "markdown",
   "id": "84448154-da21-4837-bbc0-70f3dd10722e",
   "metadata": {},
   "source": [
    "##### Se observa una mayor demanda en los meses de Junio,Julio y Agosto"
   ]
  },
  {
   "cell_type": "code",
   "execution_count": 12,
   "id": "94cde4dd-3c86-4ff3-9d29-b669bdc93459",
   "metadata": {},
   "outputs": [
    {
     "data": {
      "image/png": "[encoded data removed]",
      "text/plain": [
       "<Figure size 504x252 with 1 Axes>"
      ]
     },
     "metadata": {
      "needs_background": "light"
     },
     "output_type": "display_data"
    }
   ],
   "source": [
    "# Comportamiento semanal\n",
    "\n",
    "fig, ax = plt.subplots(figsize=(7, 3.5))\n",
    "result['Dia de la semana'] = result.index.day_of_week + 1\n",
    "result.boxplot(column='FurnaceHRV', by='Dia de la semana', ax=ax)\n",
    "result.groupby('Dia de la semana')['FurnaceHRV'].median().plot(style='o-', linewidth=0.8, ax=ax)\n",
    "ax.set_ylabel('Demand')\n",
    "ax.set_title('Distribución demanda por día de la semana')\n",
    "fig.suptitle('');"
   ]
  },
  {
   "cell_type": "markdown",
   "id": "7d2a5e73-15f9-4e97-a79b-0313f3c05a58",
   "metadata": {},
   "source": [
    "##### Se observa una demanda inferior al comenzar y finalizar la semana"
   ]
  },
  {
   "cell_type": "code",
   "execution_count": 13,
   "id": "0c1ac8a0-3ba2-46fd-8c00-96b20dd7b018",
   "metadata": {},
   "outputs": [
    {
     "data": {
      "image/png": "[encoded data removed]",
      "text/plain": [
       "<Figure size 648x252 with 1 Axes>"
      ]
     },
     "metadata": {
      "needs_background": "light"
     },
     "output_type": "display_data"
    }
   ],
   "source": [
    "# Gráfico boxplot para estacionalidad diaria\n",
    "\n",
    "fig, ax = plt.subplots(figsize=(9, 3.5))\n",
    "result['Hora del dia'] = result.index.hour + 1\n",
    "result.boxplot(column='FurnaceHRV', by='Hora del dia', ax=ax)\n",
    "result.groupby('Hora del dia')['FurnaceHRV'].median().plot(style='o-', linewidth=0.8, ax=ax)\n",
    "ax.set_ylabel('FurnaceHRV')\n",
    "ax.set_title('Distribución demanda por hora del día')\n",
    "fig.suptitle('');"
   ]
  },
  {
   "cell_type": "markdown",
   "id": "8f5286ee-3711-4df5-b042-2485a6977c2b",
   "metadata": {},
   "source": [
    "##### Se observa que la demanda disminuye entre las 11 A.M - 1 P.M  "
   ]
  },
  {
   "cell_type": "markdown",
   "id": "af6f859d-7bc1-4200-ba94-747b1331cc21",
   "metadata": {},
   "source": [
    "## Entrenamiento del Forecaster"
   ]
  },
  {
   "cell_type": "markdown",
   "id": "9082c37c-0b4c-48fe-8058-1fdc95566d63",
   "metadata": {},
   "source": [
    "#### El proceso de Forecasting consiste en predecir el valor futuro de una serie temporal, sea modelando la serie temporal únicamente en función de su comportamiento pasado (autorregresivo) o empleando otras variables externas a la serie temporal."
   ]
  },
  {
   "cell_type": "code",
   "execution_count": 14,
   "id": "a85f13c7-94cb-49c0-96e0-d77e5c246a0f",
   "metadata": {},
   "outputs": [
    {
     "name": "stdout",
     "output_type": "stream",
     "text": [
      "Fechas train      : 2014-01-01 01:00:00 --- 2015-12-31 23:00:00\n",
      "Fechas validacion : 2015-12-31 23:00:00 --- 2016-11-30 23:00:00\n",
      "Fechas test       : 2016-11-30 23:00:00 --- 2016-12-30 23:00:00\n"
     ]
    }
   ],
   "source": [
    "# Separación datos train-val-test\n",
    "result = result.loc['2014-01-01 00:00:00': '2016-12-30 23:00:00']\n",
    "fin_train = '2015-12-31 23:00:00'\n",
    "fin_validacion = '2016-11-30 23:00:00'\n",
    "datos_train = result.loc[: fin_train, :]\n",
    "datos_val   = result.loc[fin_train:fin_validacion, :]\n",
    "datos_test  = result.loc[fin_validacion:, :]\n",
    "\n",
    "print(f\"Fechas train      : {datos_train.index.min()} --- {datos_train.index.max()}\")\n",
    "print(f\"Fechas validacion : {datos_val.index.min()} --- {datos_val.index.max()}\")\n",
    "print(f\"Fechas test       : {datos_test.index.min()} --- {datos_test.index.max()}\")"
   ]
  },
  {
   "cell_type": "markdown",
   "id": "d08b7aa8-99b7-48d3-a0ea-49e4ec675a30",
   "metadata": {},
   "source": [
    "##### Se crea y entrena un modelo autorregresivo recursivo (ForecasterAutoreg) a partir de un modelo de regresión lineal y una ventana temporal de 24 lags. Esto último significa que, para cada predicción, se utilizan como predictores la demanda de las 24 horas anteriores."
   ]
  },
  {
   "cell_type": "code",
   "execution_count": 15,
   "id": "63e8559c-6a8c-4d50-8d8c-2a8fe11ea2d8",
   "metadata": {},
   "outputs": [
    {
     "data": {
      "text/plain": [
       "================= \n",
       "ForecasterAutoreg \n",
       "================= \n",
       "Regressor: Pipeline(steps=[('standardscaler', StandardScaler()), ('ridge', Ridge())]) \n",
       "Lags: [ 1  2  3  4  5  6  7  8  9 10 11 12 13 14 15 16 17 18 19 20 21 22 23 24] \n",
       "Window size: 24 \n",
       "Included exogenous: False \n",
       "Type of exogenous variable: None \n",
       "Exogenous variables names: None \n",
       "Training range: [Timestamp('2014-01-01 01:00:00'), Timestamp('2016-11-30 23:00:00')] \n",
       "Training index type: DatetimeIndex \n",
       "Training index frequency: H \n",
       "Regressor parameters: {'standardscaler__copy': True, 'standardscaler__with_mean': True, 'standardscaler__with_std': True, 'ridge__alpha': 1.0, 'ridge__copy_X': True, 'ridge__fit_intercept': True, 'ridge__max_iter': None, 'ridge__normalize': 'deprecated', 'ridge__positive': False, 'ridge__random_state': None, 'ridge__solver': 'auto', 'ridge__tol': 0.001} \n",
       "Creation date: 2022-11-29 22:32:11 \n",
       "Last fit date: 2022-11-29 22:32:11 \n",
       "Skforecast version: 0.4.2 "
      ]
     },
     "execution_count": 15,
     "metadata": {},
     "output_type": "execute_result"
    }
   ],
   "source": [
    "# Crear y entrenar forecaster\n",
    "# ==============================================================================\n",
    "forecaster = ForecasterAutoreg(\n",
    "                regressor = make_pipeline(StandardScaler(), Ridge()),\n",
    "                lags      = 24\n",
    "             )\n",
    "\n",
    "forecaster.fit(y=result.loc[:fin_validacion, 'FurnaceHRV'])\n",
    "forecaster"
   ]
  },
  {
   "cell_type": "markdown",
   "id": "c6657b30-bf3d-40d3-bdca-ccd2279571e1",
   "metadata": {},
   "source": [
    "##### A este tipo de evaluación se le conoce como backtesting, y puede aplicarse fácilmente con la función backtesting_forecaster() para un lapso de tiempo predefinido por nosotros, en este caso entre 2014-01-01 05:00:00 y 2014-11-30 23:00:00 y predecir las siguientes 24 horas . Esta función devuelve, además de las predicciones, una métrica de error."
   ]
  },
  {
   "cell_type": "code",
   "execution_count": 16,
   "id": "0692f9ad-c1d8-4861-b24f-688369b83974",
   "metadata": {},
   "outputs": [
    {
     "name": "stdout",
     "output_type": "stream",
     "text": [
      "Information of backtesting process\n",
      "----------------------------------\n",
      "Number of observations used for initial training or as initial window: 25559\n",
      "Number of observations used for backtesting: 720\n",
      "    Number of folds: 30\n",
      "    Number of steps per fold: 24\n",
      "\n",
      "Data partition in fold: 0\n",
      "    Training:   2014-01-01 01:00:00 -- 2016-11-30 23:00:00\n",
      "    Validation: 2016-12-01 00:00:00 -- 2016-12-01 23:00:00\n",
      "Data partition in fold: 1\n",
      "    Training:   2014-01-01 01:00:00 -- 2016-11-30 23:00:00\n",
      "    Validation: 2016-12-02 00:00:00 -- 2016-12-02 23:00:00\n",
      "Data partition in fold: 2\n",
      "    Training:   2014-01-01 01:00:00 -- 2016-11-30 23:00:00\n",
      "    Validation: 2016-12-03 00:00:00 -- 2016-12-03 23:00:00\n",
      "Data partition in fold: 3\n",
      "    Training:   2014-01-01 01:00:00 -- 2016-11-30 23:00:00\n",
      "    Validation: 2016-12-04 00:00:00 -- 2016-12-04 23:00:00\n",
      "Data partition in fold: 4\n",
      "    Training:   2014-01-01 01:00:00 -- 2016-11-30 23:00:00\n",
      "    Validation: 2016-12-05 00:00:00 -- 2016-12-05 23:00:00\n",
      "Data partition in fold: 5\n",
      "    Training:   2014-01-01 01:00:00 -- 2016-11-30 23:00:00\n",
      "    Validation: 2016-12-06 00:00:00 -- 2016-12-06 23:00:00\n",
      "Data partition in fold: 6\n",
      "    Training:   2014-01-01 01:00:00 -- 2016-11-30 23:00:00\n",
      "    Validation: 2016-12-07 00:00:00 -- 2016-12-07 23:00:00\n",
      "Data partition in fold: 7\n",
      "    Training:   2014-01-01 01:00:00 -- 2016-11-30 23:00:00\n",
      "    Validation: 2016-12-08 00:00:00 -- 2016-12-08 23:00:00\n",
      "Data partition in fold: 8\n",
      "    Training:   2014-01-01 01:00:00 -- 2016-11-30 23:00:00\n",
      "    Validation: 2016-12-09 00:00:00 -- 2016-12-09 23:00:00\n",
      "Data partition in fold: 9\n",
      "    Training:   2014-01-01 01:00:00 -- 2016-11-30 23:00:00\n",
      "    Validation: 2016-12-10 00:00:00 -- 2016-12-10 23:00:00\n",
      "Data partition in fold: 10\n",
      "    Training:   2014-01-01 01:00:00 -- 2016-11-30 23:00:00\n",
      "    Validation: 2016-12-11 00:00:00 -- 2016-12-11 23:00:00\n",
      "Data partition in fold: 11\n",
      "    Training:   2014-01-01 01:00:00 -- 2016-11-30 23:00:00\n",
      "    Validation: 2016-12-12 00:00:00 -- 2016-12-12 23:00:00\n",
      "Data partition in fold: 12\n",
      "    Training:   2014-01-01 01:00:00 -- 2016-11-30 23:00:00\n",
      "    Validation: 2016-12-13 00:00:00 -- 2016-12-13 23:00:00\n",
      "Data partition in fold: 13\n",
      "    Training:   2014-01-01 01:00:00 -- 2016-11-30 23:00:00\n",
      "    Validation: 2016-12-14 00:00:00 -- 2016-12-14 23:00:00\n",
      "Data partition in fold: 14\n",
      "    Training:   2014-01-01 01:00:00 -- 2016-11-30 23:00:00\n",
      "    Validation: 2016-12-15 00:00:00 -- 2016-12-15 23:00:00\n",
      "Data partition in fold: 15\n",
      "    Training:   2014-01-01 01:00:00 -- 2016-11-30 23:00:00\n",
      "    Validation: 2016-12-16 00:00:00 -- 2016-12-16 23:00:00\n",
      "Data partition in fold: 16\n",
      "    Training:   2014-01-01 01:00:00 -- 2016-11-30 23:00:00\n",
      "    Validation: 2016-12-17 00:00:00 -- 2016-12-17 23:00:00\n",
      "Data partition in fold: 17\n",
      "    Training:   2014-01-01 01:00:00 -- 2016-11-30 23:00:00\n",
      "    Validation: 2016-12-18 00:00:00 -- 2016-12-18 23:00:00\n",
      "Data partition in fold: 18\n",
      "    Training:   2014-01-01 01:00:00 -- 2016-11-30 23:00:00\n",
      "    Validation: 2016-12-19 00:00:00 -- 2016-12-19 23:00:00\n",
      "Data partition in fold: 19\n",
      "    Training:   2014-01-01 01:00:00 -- 2016-11-30 23:00:00\n",
      "    Validation: 2016-12-20 00:00:00 -- 2016-12-20 23:00:00\n",
      "Data partition in fold: 20\n",
      "    Training:   2014-01-01 01:00:00 -- 2016-11-30 23:00:00\n",
      "    Validation: 2016-12-21 00:00:00 -- 2016-12-21 23:00:00\n",
      "Data partition in fold: 21\n",
      "    Training:   2014-01-01 01:00:00 -- 2016-11-30 23:00:00\n",
      "    Validation: 2016-12-22 00:00:00 -- 2016-12-22 23:00:00\n",
      "Data partition in fold: 22\n",
      "    Training:   2014-01-01 01:00:00 -- 2016-11-30 23:00:00\n",
      "    Validation: 2016-12-23 00:00:00 -- 2016-12-23 23:00:00\n",
      "Data partition in fold: 23\n",
      "    Training:   2014-01-01 01:00:00 -- 2016-11-30 23:00:00\n",
      "    Validation: 2016-12-24 00:00:00 -- 2016-12-24 23:00:00\n",
      "Data partition in fold: 24\n",
      "    Training:   2014-01-01 01:00:00 -- 2016-11-30 23:00:00\n",
      "    Validation: 2016-12-25 00:00:00 -- 2016-12-25 23:00:00\n",
      "Data partition in fold: 25\n",
      "    Training:   2014-01-01 01:00:00 -- 2016-11-30 23:00:00\n",
      "    Validation: 2016-12-26 00:00:00 -- 2016-12-26 23:00:00\n",
      "Data partition in fold: 26\n",
      "    Training:   2014-01-01 01:00:00 -- 2016-11-30 23:00:00\n",
      "    Validation: 2016-12-27 00:00:00 -- 2016-12-27 23:00:00\n",
      "Data partition in fold: 27\n",
      "    Training:   2014-01-01 01:00:00 -- 2016-11-30 23:00:00\n",
      "    Validation: 2016-12-28 00:00:00 -- 2016-12-28 23:00:00\n",
      "Data partition in fold: 28\n",
      "    Training:   2014-01-01 01:00:00 -- 2016-11-30 23:00:00\n",
      "    Validation: 2016-12-29 00:00:00 -- 2016-12-29 23:00:00\n",
      "Data partition in fold: 29\n",
      "    Training:   2014-01-01 01:00:00 -- 2016-11-30 23:00:00\n",
      "    Validation: 2016-12-30 00:00:00 -- 2016-12-30 23:00:00\n",
      "\n"
     ]
    }
   ],
   "source": [
    "# Backtest\n",
    "\n",
    "metrica, predicciones = backtesting_forecaster(\n",
    "                            forecaster = forecaster,\n",
    "                            y          = result.FurnaceHRV,\n",
    "                            initial_train_size = len(result.loc[:fin_validacion]),\n",
    "                            steps      = 24,\n",
    "                            metric     = 'mean_absolute_error',\n",
    "                            refit      = False,\n",
    "                            verbose    = True\n",
    "                        )"
   ]
  },
  {
   "cell_type": "code",
   "execution_count": 17,
   "id": "034f2e4f-b55a-47b6-ae1c-89fe83a48994",
   "metadata": {},
   "outputs": [
    {
     "data": {
      "image/png": "[encoded data removed]",
      "text/plain": [
       "<Figure size 864x252 with 1 Axes>"
      ]
     },
     "metadata": {
      "needs_background": "light"
     },
     "output_type": "display_data"
    }
   ],
   "source": [
    "# Gráfico\n",
    "\n",
    "fig, ax = plt.subplots(figsize=(12, 3.5))\n",
    "result.loc[predicciones.index, 'FurnaceHRV'].plot(ax=ax, linewidth=2, label='test')\n",
    "predicciones.plot(linewidth=2, label='predicción', ax=ax)\n",
    "ax.set_title('Predicción vs demanda real')\n",
    "ax.legend();"
   ]
  },
  {
   "cell_type": "markdown",
   "id": "f5d090d2-778b-41c0-a8fd-42496edc8948",
   "metadata": {},
   "source": [
    "#### En el objeto ForecasterAutoreg entrenado, se han utilizado los primeros 24 lags y un modelo Ridge con los hiperparámetros por defecto. Sin embargo, no hay ninguna razón por la que estos valores sean los más adecuados.\n",
    "\n",
    "#### Con el objetivo de identificar la mejor combinación de lags e hiperparámetros, se recurre a un Grid Search. Este proceso consiste en entrenar un modelo con cada combinación de hiperparámetros y lags, y evaluar su capacidad predictiva mediante backtesting. En el proceso de búsqueda, es importante evaluar los modelos utilizando únicamente los datos de validación y no incluir los de test, estos se utilizan solo en último lugar para evaluar al modelo final."
   ]
  },
  {
   "cell_type": "code",
   "execution_count": 18,
   "id": "9346d3b2-5756-43dd-b219-e5fb3c12a6c7",
   "metadata": {},
   "outputs": [
    {
     "name": "stdout",
     "output_type": "stream",
     "text": [
      "Error backtest: [0.08596362]\n"
     ]
    }
   ],
   "source": [
    "# Error backtest\n",
    "# ==============================================================================\n",
    "print(f'Error backtest: {metrica}')"
   ]
  },
  {
   "cell_type": "code",
   "execution_count": 19,
   "id": "a050dd2b-5caa-4fbc-ac7d-e7a782137468",
   "metadata": {},
   "outputs": [
    {
     "name": "stderr",
     "output_type": "stream",
     "text": [
      "loop lags_grid:   0%|                                               | 0/3 [00:00<?, ?it/s]\n",
      "loop param_grid:   0%|                                             | 0/10 [00:00<?, ?it/s]\u001b[A"
     ]
    },
    {
     "name": "stdout",
     "output_type": "stream",
     "text": [
      "Number of models compared: 30\n"
     ]
    },
    {
     "name": "stderr",
     "output_type": "stream",
     "text": [
      "\n",
      "loop param_grid:  10%|███▋                                 | 1/10 [00:02<00:19,  2.15s/it]\u001b[A\n",
      "loop param_grid:  20%|███████▍                             | 2/10 [00:04<00:16,  2.06s/it]\u001b[A\n",
      "loop param_grid:  30%|███████████                          | 3/10 [00:05<00:13,  1.95s/it]\u001b[A\n",
      "loop param_grid:  40%|██████████████▊                      | 4/10 [00:07<00:11,  1.90s/it]\u001b[A\n",
      "loop param_grid:  50%|██████████████████▌                  | 5/10 [00:09<00:09,  1.82s/it]\u001b[A\n",
      "loop param_grid:  60%|██████████████████████▏              | 6/10 [00:11<00:07,  1.80s/it]\u001b[A\n",
      "loop param_grid:  70%|█████████████████████████▉           | 7/10 [00:13<00:05,  1.81s/it]\u001b[A\n",
      "loop param_grid:  80%|█████████████████████████████▌       | 8/10 [00:14<00:03,  1.81s/it]\u001b[A\n",
      "loop param_grid:  90%|█████████████████████████████████▎   | 9/10 [00:16<00:01,  1.74s/it]\u001b[A\n",
      "loop param_grid: 100%|████████████████████████████████████| 10/10 [00:18<00:00,  1.80s/it]\u001b[A\n",
      "loop lags_grid:  33%|█████████████                          | 1/3 [00:18<00:36, 18.40s/it]\u001b[A\n",
      "loop param_grid:   0%|                                             | 0/10 [00:00<?, ?it/s]\u001b[A\n",
      "loop param_grid:  10%|███▋                                 | 1/10 [00:01<00:14,  1.64s/it]\u001b[A\n",
      "loop param_grid:  20%|███████▍                             | 2/10 [00:03<00:13,  1.66s/it]\u001b[A\n",
      "loop param_grid:  30%|███████████                          | 3/10 [00:05<00:12,  1.78s/it]\u001b[A\n",
      "loop param_grid:  40%|██████████████▊                      | 4/10 [00:07<00:11,  1.84s/it]\u001b[A\n",
      "loop param_grid:  50%|██████████████████▌                  | 5/10 [00:09<00:09,  1.86s/it]\u001b[A\n",
      "loop param_grid:  60%|██████████████████████▏              | 6/10 [00:10<00:07,  1.79s/it]\u001b[A\n",
      "loop param_grid:  70%|█████████████████████████▉           | 7/10 [00:12<00:05,  1.83s/it]\u001b[A\n",
      "loop param_grid:  80%|█████████████████████████████▌       | 8/10 [00:14<00:03,  1.91s/it]\u001b[A\n",
      "loop param_grid:  90%|█████████████████████████████████▎   | 9/10 [00:16<00:01,  1.86s/it]\u001b[A\n",
      "loop param_grid: 100%|████████████████████████████████████| 10/10 [00:18<00:00,  1.86s/it]\u001b[A\n",
      "loop lags_grid:  67%|██████████████████████████             | 2/3 [00:36<00:18, 18.36s/it]\u001b[A\n",
      "loop param_grid:   0%|                                             | 0/10 [00:00<?, ?it/s]\u001b[A\n",
      "loop param_grid:  10%|███▋                                 | 1/10 [00:01<00:16,  1.83s/it]\u001b[A\n",
      "loop param_grid:  20%|███████▍                             | 2/10 [00:03<00:13,  1.71s/it]\u001b[A\n",
      "loop param_grid:  30%|███████████                          | 3/10 [00:05<00:11,  1.67s/it]\u001b[A\n",
      "loop param_grid:  40%|██████████████▊                      | 4/10 [00:06<00:09,  1.65s/it]\u001b[A\n",
      "loop param_grid:  50%|██████████████████▌                  | 5/10 [00:08<00:08,  1.62s/it]\u001b[A\n",
      "loop param_grid:  60%|██████████████████████▏              | 6/10 [00:09<00:06,  1.61s/it]\u001b[A\n",
      "loop param_grid:  70%|█████████████████████████▉           | 7/10 [00:11<00:04,  1.63s/it]\u001b[A\n",
      "loop param_grid:  80%|█████████████████████████████▌       | 8/10 [00:13<00:03,  1.80s/it]\u001b[A\n",
      "loop param_grid:  90%|█████████████████████████████████▎   | 9/10 [00:15<00:01,  1.84s/it]\u001b[A\n",
      "loop param_grid: 100%|████████████████████████████████████| 10/10 [00:17<00:00,  1.90s/it]\u001b[A\n",
      "loop lags_grid: 100%|███████████████████████████████████████| 3/3 [00:54<00:00, 18.13s/it]\u001b[A\n"
     ]
    },
    {
     "name": "stdout",
     "output_type": "stream",
     "text": [
      "`Forecaster` refitted using the best-found lags and parameters, and the whole data set: \n",
      "  Lags: [ 1  2  3  4  5  6  7  8  9 10 11 12 13 14 15 16 17 18 19 20 21 22 23 24] \n",
      "  Parameters: {'ridge__alpha': 0.001}\n",
      "  Backtesting metric: 0.08913098463142398\n",
      "\n"
     ]
    }
   ],
   "source": [
    "# Grid search de hiperparámetros\n",
    "# ==============================================================================\n",
    "forecaster = ForecasterAutoreg(\n",
    "                    regressor = make_pipeline(StandardScaler(), Ridge()),\n",
    "                    lags      = 24 # Este valor será remplazado en el grid search\n",
    "              )\n",
    "\n",
    "# Hiperparámetros del regresor\n",
    "param_grid = {'ridge__alpha': np.logspace(-3, 5, 10)}\n",
    "\n",
    "# Lags utilizados como predictores\n",
    "lags_grid = [5, 24, [1, 2, 3, 23, 24, 25, 47, 48, 49]]\n",
    "\n",
    "resultados_grid = grid_search_forecaster(\n",
    "                        forecaster  = forecaster,\n",
    "                        y           = result.loc[:fin_validacion, 'FurnaceHRV'],\n",
    "                        param_grid  = param_grid,\n",
    "                        lags_grid   = lags_grid,\n",
    "                        steps       = 24,\n",
    "                        metric      = 'mean_absolute_error',\n",
    "                        refit       = False,\n",
    "                        initial_train_size = len(result[:fin_train]),\n",
    "                        return_best = True,\n",
    "                        verbose     = False\n",
    "                  )"
   ]
  },
  {
   "cell_type": "code",
   "execution_count": 20,
   "id": "9876de22-68ee-4719-8fc4-998ae52a6e9f",
   "metadata": {},
   "outputs": [
    {
     "data": {
      "text/html": [
       "<div>\n",
       "<style scoped>\n",
       "    .dataframe tbody tr th:only-of-type {\n",
       "        vertical-align: middle;\n",
       "    }\n",
       "\n",
       "    .dataframe tbody tr th {\n",
       "        vertical-align: top;\n",
       "    }\n",
       "\n",
       "    .dataframe thead th {\n",
       "        text-align: right;\n",
       "    }\n",
       "</style>\n",
       "<table border=\"1\" class=\"dataframe\">\n",
       "  <thead>\n",
       "    <tr style=\"text-align: right;\">\n",
       "      <th></th>\n",
       "      <th>lags</th>\n",
       "      <th>params</th>\n",
       "      <th>metric</th>\n",
       "      <th>ridge__alpha</th>\n",
       "    </tr>\n",
       "  </thead>\n",
       "  <tbody>\n",
       "    <tr>\n",
       "      <th>10</th>\n",
       "      <td>[1, 2, 3, 4, 5, 6, 7, 8, 9, 10, 11, 12, 13, 14...</td>\n",
       "      <td>{'ridge__alpha': 0.001}</td>\n",
       "      <td>0.089131</td>\n",
       "      <td>0.001000</td>\n",
       "    </tr>\n",
       "    <tr>\n",
       "      <th>11</th>\n",
       "      <td>[1, 2, 3, 4, 5, 6, 7, 8, 9, 10, 11, 12, 13, 14...</td>\n",
       "      <td>{'ridge__alpha': 0.007742636826811269}</td>\n",
       "      <td>0.089131</td>\n",
       "      <td>0.007743</td>\n",
       "    </tr>\n",
       "    <tr>\n",
       "      <th>12</th>\n",
       "      <td>[1, 2, 3, 4, 5, 6, 7, 8, 9, 10, 11, 12, 13, 14...</td>\n",
       "      <td>{'ridge__alpha': 0.05994842503189409}</td>\n",
       "      <td>0.089131</td>\n",
       "      <td>0.059948</td>\n",
       "    </tr>\n",
       "    <tr>\n",
       "      <th>13</th>\n",
       "      <td>[1, 2, 3, 4, 5, 6, 7, 8, 9, 10, 11, 12, 13, 14...</td>\n",
       "      <td>{'ridge__alpha': 0.46415888336127775}</td>\n",
       "      <td>0.089131</td>\n",
       "      <td>0.464159</td>\n",
       "    </tr>\n",
       "    <tr>\n",
       "      <th>14</th>\n",
       "      <td>[1, 2, 3, 4, 5, 6, 7, 8, 9, 10, 11, 12, 13, 14...</td>\n",
       "      <td>{'ridge__alpha': 3.593813663804626}</td>\n",
       "      <td>0.089134</td>\n",
       "      <td>3.593814</td>\n",
       "    </tr>\n",
       "    <tr>\n",
       "      <th>15</th>\n",
       "      <td>[1, 2, 3, 4, 5, 6, 7, 8, 9, 10, 11, 12, 13, 14...</td>\n",
       "      <td>{'ridge__alpha': 27.825594022071257}</td>\n",
       "      <td>0.089153</td>\n",
       "      <td>27.825594</td>\n",
       "    </tr>\n",
       "    <tr>\n",
       "      <th>16</th>\n",
       "      <td>[1, 2, 3, 4, 5, 6, 7, 8, 9, 10, 11, 12, 13, 14...</td>\n",
       "      <td>{'ridge__alpha': 215.44346900318823}</td>\n",
       "      <td>0.089316</td>\n",
       "      <td>215.443469</td>\n",
       "    </tr>\n",
       "    <tr>\n",
       "      <th>17</th>\n",
       "      <td>[1, 2, 3, 4, 5, 6, 7, 8, 9, 10, 11, 12, 13, 14...</td>\n",
       "      <td>{'ridge__alpha': 1668.1005372000557}</td>\n",
       "      <td>0.090855</td>\n",
       "      <td>1668.100537</td>\n",
       "    </tr>\n",
       "    <tr>\n",
       "      <th>27</th>\n",
       "      <td>[1, 2, 3, 23, 24, 25, 47, 48, 49]</td>\n",
       "      <td>{'ridge__alpha': 1668.1005372000557}</td>\n",
       "      <td>0.091978</td>\n",
       "      <td>1668.100537</td>\n",
       "    </tr>\n",
       "    <tr>\n",
       "      <th>26</th>\n",
       "      <td>[1, 2, 3, 23, 24, 25, 47, 48, 49]</td>\n",
       "      <td>{'ridge__alpha': 215.44346900318823}</td>\n",
       "      <td>0.092018</td>\n",
       "      <td>215.443469</td>\n",
       "    </tr>\n",
       "    <tr>\n",
       "      <th>25</th>\n",
       "      <td>[1, 2, 3, 23, 24, 25, 47, 48, 49]</td>\n",
       "      <td>{'ridge__alpha': 27.825594022071257}</td>\n",
       "      <td>0.093041</td>\n",
       "      <td>27.825594</td>\n",
       "    </tr>\n",
       "    <tr>\n",
       "      <th>24</th>\n",
       "      <td>[1, 2, 3, 23, 24, 25, 47, 48, 49]</td>\n",
       "      <td>{'ridge__alpha': 3.593813663804626}</td>\n",
       "      <td>0.093214</td>\n",
       "      <td>3.593814</td>\n",
       "    </tr>\n",
       "    <tr>\n",
       "      <th>23</th>\n",
       "      <td>[1, 2, 3, 23, 24, 25, 47, 48, 49]</td>\n",
       "      <td>{'ridge__alpha': 0.46415888336127775}</td>\n",
       "      <td>0.093237</td>\n",
       "      <td>0.464159</td>\n",
       "    </tr>\n",
       "    <tr>\n",
       "      <th>22</th>\n",
       "      <td>[1, 2, 3, 23, 24, 25, 47, 48, 49]</td>\n",
       "      <td>{'ridge__alpha': 0.05994842503189409}</td>\n",
       "      <td>0.093240</td>\n",
       "      <td>0.059948</td>\n",
       "    </tr>\n",
       "    <tr>\n",
       "      <th>21</th>\n",
       "      <td>[1, 2, 3, 23, 24, 25, 47, 48, 49]</td>\n",
       "      <td>{'ridge__alpha': 0.007742636826811269}</td>\n",
       "      <td>0.093240</td>\n",
       "      <td>0.007743</td>\n",
       "    </tr>\n",
       "    <tr>\n",
       "      <th>20</th>\n",
       "      <td>[1, 2, 3, 23, 24, 25, 47, 48, 49]</td>\n",
       "      <td>{'ridge__alpha': 0.001}</td>\n",
       "      <td>0.093240</td>\n",
       "      <td>0.001000</td>\n",
       "    </tr>\n",
       "    <tr>\n",
       "      <th>18</th>\n",
       "      <td>[1, 2, 3, 4, 5, 6, 7, 8, 9, 10, 11, 12, 13, 14...</td>\n",
       "      <td>{'ridge__alpha': 12915.496650148827}</td>\n",
       "      <td>0.099850</td>\n",
       "      <td>12915.496650</td>\n",
       "    </tr>\n",
       "    <tr>\n",
       "      <th>28</th>\n",
       "      <td>[1, 2, 3, 23, 24, 25, 47, 48, 49]</td>\n",
       "      <td>{'ridge__alpha': 12915.496650148827}</td>\n",
       "      <td>0.103201</td>\n",
       "      <td>12915.496650</td>\n",
       "    </tr>\n",
       "    <tr>\n",
       "      <th>0</th>\n",
       "      <td>[1, 2, 3, 4, 5]</td>\n",
       "      <td>{'ridge__alpha': 0.001}</td>\n",
       "      <td>0.120860</td>\n",
       "      <td>0.001000</td>\n",
       "    </tr>\n",
       "    <tr>\n",
       "      <th>1</th>\n",
       "      <td>[1, 2, 3, 4, 5]</td>\n",
       "      <td>{'ridge__alpha': 0.007742636826811269}</td>\n",
       "      <td>0.120860</td>\n",
       "      <td>0.007743</td>\n",
       "    </tr>\n",
       "    <tr>\n",
       "      <th>2</th>\n",
       "      <td>[1, 2, 3, 4, 5]</td>\n",
       "      <td>{'ridge__alpha': 0.05994842503189409}</td>\n",
       "      <td>0.120861</td>\n",
       "      <td>0.059948</td>\n",
       "    </tr>\n",
       "    <tr>\n",
       "      <th>3</th>\n",
       "      <td>[1, 2, 3, 4, 5]</td>\n",
       "      <td>{'ridge__alpha': 0.46415888336127775}</td>\n",
       "      <td>0.120868</td>\n",
       "      <td>0.464159</td>\n",
       "    </tr>\n",
       "    <tr>\n",
       "      <th>4</th>\n",
       "      <td>[1, 2, 3, 4, 5]</td>\n",
       "      <td>{'ridge__alpha': 3.593813663804626}</td>\n",
       "      <td>0.120928</td>\n",
       "      <td>3.593814</td>\n",
       "    </tr>\n",
       "    <tr>\n",
       "      <th>5</th>\n",
       "      <td>[1, 2, 3, 4, 5]</td>\n",
       "      <td>{'ridge__alpha': 27.825594022071257}</td>\n",
       "      <td>0.121382</td>\n",
       "      <td>27.825594</td>\n",
       "    </tr>\n",
       "    <tr>\n",
       "      <th>6</th>\n",
       "      <td>[1, 2, 3, 4, 5]</td>\n",
       "      <td>{'ridge__alpha': 215.44346900318823}</td>\n",
       "      <td>0.124585</td>\n",
       "      <td>215.443469</td>\n",
       "    </tr>\n",
       "    <tr>\n",
       "      <th>19</th>\n",
       "      <td>[1, 2, 3, 4, 5, 6, 7, 8, 9, 10, 11, 12, 13, 14...</td>\n",
       "      <td>{'ridge__alpha': 100000.0}</td>\n",
       "      <td>0.127965</td>\n",
       "      <td>100000.000000</td>\n",
       "    </tr>\n",
       "    <tr>\n",
       "      <th>29</th>\n",
       "      <td>[1, 2, 3, 23, 24, 25, 47, 48, 49]</td>\n",
       "      <td>{'ridge__alpha': 100000.0}</td>\n",
       "      <td>0.129347</td>\n",
       "      <td>100000.000000</td>\n",
       "    </tr>\n",
       "    <tr>\n",
       "      <th>7</th>\n",
       "      <td>[1, 2, 3, 4, 5]</td>\n",
       "      <td>{'ridge__alpha': 1668.1005372000557}</td>\n",
       "      <td>0.138075</td>\n",
       "      <td>1668.100537</td>\n",
       "    </tr>\n",
       "    <tr>\n",
       "      <th>8</th>\n",
       "      <td>[1, 2, 3, 4, 5]</td>\n",
       "      <td>{'ridge__alpha': 12915.496650148827}</td>\n",
       "      <td>0.151675</td>\n",
       "      <td>12915.496650</td>\n",
       "    </tr>\n",
       "    <tr>\n",
       "      <th>9</th>\n",
       "      <td>[1, 2, 3, 4, 5]</td>\n",
       "      <td>{'ridge__alpha': 100000.0}</td>\n",
       "      <td>0.154932</td>\n",
       "      <td>100000.000000</td>\n",
       "    </tr>\n",
       "  </tbody>\n",
       "</table>\n",
       "</div>"
      ],
      "text/plain": [
       "                                                 lags  \\\n",
       "10  [1, 2, 3, 4, 5, 6, 7, 8, 9, 10, 11, 12, 13, 14...   \n",
       "11  [1, 2, 3, 4, 5, 6, 7, 8, 9, 10, 11, 12, 13, 14...   \n",
       "12  [1, 2, 3, 4, 5, 6, 7, 8, 9, 10, 11, 12, 13, 14...   \n",
       "13  [1, 2, 3, 4, 5, 6, 7, 8, 9, 10, 11, 12, 13, 14...   \n",
       "14  [1, 2, 3, 4, 5, 6, 7, 8, 9, 10, 11, 12, 13, 14...   \n",
       "15  [1, 2, 3, 4, 5, 6, 7, 8, 9, 10, 11, 12, 13, 14...   \n",
       "16  [1, 2, 3, 4, 5, 6, 7, 8, 9, 10, 11, 12, 13, 14...   \n",
       "17  [1, 2, 3, 4, 5, 6, 7, 8, 9, 10, 11, 12, 13, 14...   \n",
       "27                  [1, 2, 3, 23, 24, 25, 47, 48, 49]   \n",
       "26                  [1, 2, 3, 23, 24, 25, 47, 48, 49]   \n",
       "25                  [1, 2, 3, 23, 24, 25, 47, 48, 49]   \n",
       "24                  [1, 2, 3, 23, 24, 25, 47, 48, 49]   \n",
       "23                  [1, 2, 3, 23, 24, 25, 47, 48, 49]   \n",
       "22                  [1, 2, 3, 23, 24, 25, 47, 48, 49]   \n",
       "21                  [1, 2, 3, 23, 24, 25, 47, 48, 49]   \n",
       "20                  [1, 2, 3, 23, 24, 25, 47, 48, 49]   \n",
       "18  [1, 2, 3, 4, 5, 6, 7, 8, 9, 10, 11, 12, 13, 14...   \n",
       "28                  [1, 2, 3, 23, 24, 25, 47, 48, 49]   \n",
       "0                                     [1, 2, 3, 4, 5]   \n",
       "1                                     [1, 2, 3, 4, 5]   \n",
       "2                                     [1, 2, 3, 4, 5]   \n",
       "3                                     [1, 2, 3, 4, 5]   \n",
       "4                                     [1, 2, 3, 4, 5]   \n",
       "5                                     [1, 2, 3, 4, 5]   \n",
       "6                                     [1, 2, 3, 4, 5]   \n",
       "19  [1, 2, 3, 4, 5, 6, 7, 8, 9, 10, 11, 12, 13, 14...   \n",
       "29                  [1, 2, 3, 23, 24, 25, 47, 48, 49]   \n",
       "7                                     [1, 2, 3, 4, 5]   \n",
       "8                                     [1, 2, 3, 4, 5]   \n",
       "9                                     [1, 2, 3, 4, 5]   \n",
       "\n",
       "                                    params    metric   ridge__alpha  \n",
       "10                 {'ridge__alpha': 0.001}  0.089131       0.001000  \n",
       "11  {'ridge__alpha': 0.007742636826811269}  0.089131       0.007743  \n",
       "12   {'ridge__alpha': 0.05994842503189409}  0.089131       0.059948  \n",
       "13   {'ridge__alpha': 0.46415888336127775}  0.089131       0.464159  \n",
       "14     {'ridge__alpha': 3.593813663804626}  0.089134       3.593814  \n",
       "15    {'ridge__alpha': 27.825594022071257}  0.089153      27.825594  \n",
       "16    {'ridge__alpha': 215.44346900318823}  0.089316     215.443469  \n",
       "17    {'ridge__alpha': 1668.1005372000557}  0.090855    1668.100537  \n",
       "27    {'ridge__alpha': 1668.1005372000557}  0.091978    1668.100537  \n",
       "26    {'ridge__alpha': 215.44346900318823}  0.092018     215.443469  \n",
       "25    {'ridge__alpha': 27.825594022071257}  0.093041      27.825594  \n",
       "24     {'ridge__alpha': 3.593813663804626}  0.093214       3.593814  \n",
       "23   {'ridge__alpha': 0.46415888336127775}  0.093237       0.464159  \n",
       "22   {'ridge__alpha': 0.05994842503189409}  0.093240       0.059948  \n",
       "21  {'ridge__alpha': 0.007742636826811269}  0.093240       0.007743  \n",
       "20                 {'ridge__alpha': 0.001}  0.093240       0.001000  \n",
       "18    {'ridge__alpha': 12915.496650148827}  0.099850   12915.496650  \n",
       "28    {'ridge__alpha': 12915.496650148827}  0.103201   12915.496650  \n",
       "0                  {'ridge__alpha': 0.001}  0.120860       0.001000  \n",
       "1   {'ridge__alpha': 0.007742636826811269}  0.120860       0.007743  \n",
       "2    {'ridge__alpha': 0.05994842503189409}  0.120861       0.059948  \n",
       "3    {'ridge__alpha': 0.46415888336127775}  0.120868       0.464159  \n",
       "4      {'ridge__alpha': 3.593813663804626}  0.120928       3.593814  \n",
       "5     {'ridge__alpha': 27.825594022071257}  0.121382      27.825594  \n",
       "6     {'ridge__alpha': 215.44346900318823}  0.124585     215.443469  \n",
       "19              {'ridge__alpha': 100000.0}  0.127965  100000.000000  \n",
       "29              {'ridge__alpha': 100000.0}  0.129347  100000.000000  \n",
       "7     {'ridge__alpha': 1668.1005372000557}  0.138075    1668.100537  \n",
       "8     {'ridge__alpha': 12915.496650148827}  0.151675   12915.496650  \n",
       "9               {'ridge__alpha': 100000.0}  0.154932  100000.000000  "
      ]
     },
     "execution_count": 20,
     "metadata": {},
     "output_type": "execute_result"
    }
   ],
   "source": [
    "# Resultados Grid Search\n",
    "# ==============================================================================\n",
    "resultados_grid"
   ]
  },
  {
   "cell_type": "code",
   "execution_count": 21,
   "id": "8b4bf103-93bc-4f71-97b7-177b4ded40c1",
   "metadata": {},
   "outputs": [
    {
     "data": {
      "image/png": "[encoded data removed]",
      "text/plain": [
       "<Figure size 864x252 with 1 Axes>"
      ]
     },
     "metadata": {
      "needs_background": "light"
     },
     "output_type": "display_data"
    }
   ],
   "source": [
    "# Backtest modelo final\n",
    "# ==============================================================================\n",
    "metrica, predicciones = backtesting_forecaster(\n",
    "                            forecaster = forecaster,\n",
    "                            y          = result.FurnaceHRV,\n",
    "                            initial_train_size = len(result[:fin_validacion]),\n",
    "                            steps      = 24,\n",
    "                            metric     = 'mean_absolute_error',\n",
    "                            refit      = False,\n",
    "                            verbose    = False\n",
    "                        )\n",
    "\n",
    "\n",
    "fig, ax = plt.subplots(figsize=(12, 3.5))\n",
    "result.loc[predicciones.index, 'FurnaceHRV'].plot(linewidth=2, label='test', ax=ax)\n",
    "predicciones.plot(linewidth=2, label='predicción', ax=ax)\n",
    "ax.set_title('Predicción vs demanda real')\n",
    "ax.legend();"
   ]
  },
  {
   "cell_type": "code",
   "execution_count": 22,
   "id": "06844e17-5b4b-4423-8e60-14239b09df8e",
   "metadata": {},
   "outputs": [
    {
     "name": "stdout",
     "output_type": "stream",
     "text": [
      "Métrica backtesting: [0.08596579]\n"
     ]
    },
    {
     "data": {
      "text/html": [
       "<div>\n",
       "<style scoped>\n",
       "    .dataframe tbody tr th:only-of-type {\n",
       "        vertical-align: middle;\n",
       "    }\n",
       "\n",
       "    .dataframe tbody tr th {\n",
       "        vertical-align: top;\n",
       "    }\n",
       "\n",
       "    .dataframe thead th {\n",
       "        text-align: right;\n",
       "    }\n",
       "</style>\n",
       "<table border=\"1\" class=\"dataframe\">\n",
       "  <thead>\n",
       "    <tr style=\"text-align: right;\">\n",
       "      <th></th>\n",
       "      <th>pred</th>\n",
       "      <th>lower_bound</th>\n",
       "      <th>upper_bound</th>\n",
       "    </tr>\n",
       "  </thead>\n",
       "  <tbody>\n",
       "    <tr>\n",
       "      <th>2016-12-01 00:00:00</th>\n",
       "      <td>0.110893</td>\n",
       "      <td>0.055385</td>\n",
       "      <td>0.187016</td>\n",
       "    </tr>\n",
       "    <tr>\n",
       "      <th>2016-12-01 01:00:00</th>\n",
       "      <td>0.086053</td>\n",
       "      <td>-0.023536</td>\n",
       "      <td>0.213913</td>\n",
       "    </tr>\n",
       "    <tr>\n",
       "      <th>2016-12-01 02:00:00</th>\n",
       "      <td>0.053706</td>\n",
       "      <td>-0.071003</td>\n",
       "      <td>0.222911</td>\n",
       "    </tr>\n",
       "    <tr>\n",
       "      <th>2016-12-01 03:00:00</th>\n",
       "      <td>0.059125</td>\n",
       "      <td>-0.088554</td>\n",
       "      <td>0.213072</td>\n",
       "    </tr>\n",
       "    <tr>\n",
       "      <th>2016-12-01 04:00:00</th>\n",
       "      <td>0.051142</td>\n",
       "      <td>-0.082559</td>\n",
       "      <td>0.198351</td>\n",
       "    </tr>\n",
       "    <tr>\n",
       "      <th>...</th>\n",
       "      <td>...</td>\n",
       "      <td>...</td>\n",
       "      <td>...</td>\n",
       "    </tr>\n",
       "    <tr>\n",
       "      <th>2016-12-30 19:00:00</th>\n",
       "      <td>0.120270</td>\n",
       "      <td>-0.032957</td>\n",
       "      <td>0.308175</td>\n",
       "    </tr>\n",
       "    <tr>\n",
       "      <th>2016-12-30 20:00:00</th>\n",
       "      <td>0.071838</td>\n",
       "      <td>-0.090193</td>\n",
       "      <td>0.259251</td>\n",
       "    </tr>\n",
       "    <tr>\n",
       "      <th>2016-12-30 21:00:00</th>\n",
       "      <td>0.189957</td>\n",
       "      <td>0.035730</td>\n",
       "      <td>0.362229</td>\n",
       "    </tr>\n",
       "    <tr>\n",
       "      <th>2016-12-30 22:00:00</th>\n",
       "      <td>0.275880</td>\n",
       "      <td>0.133413</td>\n",
       "      <td>0.453969</td>\n",
       "    </tr>\n",
       "    <tr>\n",
       "      <th>2016-12-30 23:00:00</th>\n",
       "      <td>0.230669</td>\n",
       "      <td>0.067159</td>\n",
       "      <td>0.406441</td>\n",
       "    </tr>\n",
       "  </tbody>\n",
       "</table>\n",
       "<p>720 rows × 3 columns</p>\n",
       "</div>"
      ],
      "text/plain": [
       "                         pred  lower_bound  upper_bound\n",
       "2016-12-01 00:00:00  0.110893     0.055385     0.187016\n",
       "2016-12-01 01:00:00  0.086053    -0.023536     0.213913\n",
       "2016-12-01 02:00:00  0.053706    -0.071003     0.222911\n",
       "2016-12-01 03:00:00  0.059125    -0.088554     0.213072\n",
       "2016-12-01 04:00:00  0.051142    -0.082559     0.198351\n",
       "...                       ...          ...          ...\n",
       "2016-12-30 19:00:00  0.120270    -0.032957     0.308175\n",
       "2016-12-30 20:00:00  0.071838    -0.090193     0.259251\n",
       "2016-12-30 21:00:00  0.189957     0.035730     0.362229\n",
       "2016-12-30 22:00:00  0.275880     0.133413     0.453969\n",
       "2016-12-30 23:00:00  0.230669     0.067159     0.406441\n",
       "\n",
       "[720 rows x 3 columns]"
      ]
     },
     "execution_count": 22,
     "metadata": {},
     "output_type": "execute_result"
    }
   ],
   "source": [
    "# Backtest del conjunto de test con intervalos de predicción\n",
    "# ==============================================================================\n",
    "metric, predicciones = backtesting_forecaster(\n",
    "                            forecaster          = forecaster,\n",
    "                            y                   = result.FurnaceHRV,\n",
    "                            initial_train_size  = len(result.FurnaceHRV[:fin_validacion]),\n",
    "                            steps               = 24,\n",
    "                            metric              = 'mean_absolute_error',\n",
    "                            interval            = [10, 90],\n",
    "                            n_boot              = 500,\n",
    "                            in_sample_residuals = True,\n",
    "                            verbose             = False\n",
    "                       )\n",
    "\n",
    "print('Métrica backtesting:', metric)\n",
    "predicciones.head(739)"
   ]
  },
  {
   "cell_type": "code",
   "execution_count": 23,
   "id": "de7306be-b030-4fa6-ab72-e70cc4a9bfd9",
   "metadata": {},
   "outputs": [],
   "source": [
    "df_prediccion = pd.DataFrame(predicciones);"
   ]
  },
  {
   "cell_type": "code",
   "execution_count": 24,
   "id": "895c4426-ed8e-4ffd-9ded-f50d394dd3e8",
   "metadata": {},
   "outputs": [
    {
     "data": {
      "text/html": [
       "<div>\n",
       "<style scoped>\n",
       "    .dataframe tbody tr th:only-of-type {\n",
       "        vertical-align: middle;\n",
       "    }\n",
       "\n",
       "    .dataframe tbody tr th {\n",
       "        vertical-align: top;\n",
       "    }\n",
       "\n",
       "    .dataframe thead th {\n",
       "        text-align: right;\n",
       "    }\n",
       "</style>\n",
       "<table border=\"1\" class=\"dataframe\">\n",
       "  <thead>\n",
       "    <tr style=\"text-align: right;\">\n",
       "      <th></th>\n",
       "      <th>pred</th>\n",
       "      <th>lower_bound</th>\n",
       "      <th>upper_bound</th>\n",
       "    </tr>\n",
       "  </thead>\n",
       "  <tbody>\n",
       "    <tr>\n",
       "      <th>2016-12-31</th>\n",
       "      <td>108.336515</td>\n",
       "      <td>11.599444</td>\n",
       "      <td>228.623665</td>\n",
       "    </tr>\n",
       "  </tbody>\n",
       "</table>\n",
       "</div>"
      ],
      "text/plain": [
       "                  pred  lower_bound  upper_bound\n",
       "2016-12-31  108.336515    11.599444   228.623665"
      ]
     },
     "execution_count": 24,
     "metadata": {},
     "output_type": "execute_result"
    }
   ],
   "source": [
    "# Transformación para sacar el consumo mensual\n",
    "df_estimarPrecio = df_prediccion.resample('M').sum()\n",
    "df_estimarPrecio"
   ]
  },
  {
   "cell_type": "code",
   "execution_count": 25,
   "id": "4e51747c-3f94-4b62-bdf1-58d1e6534244",
   "metadata": {},
   "outputs": [
    {
     "name": "stdout",
     "output_type": "stream",
     "text": [
      "El precio estimado de consumo en el aire acondicionado para el mes de Diciembre es de:  $56,862\n"
     ]
    }
   ],
   "source": [
    "# Estimación de precio total con predicción obtenida\n",
    "op = round(df_estimarPrecio.iloc[0]['pred'] * 524.86)\n",
    "currency = \"${:,}\".format(op)\n",
    "print('El precio estimado de consumo en el aire acondicionado para el mes de Diciembre es de: ', currency)"
   ]
  },
  {
   "cell_type": "code",
   "execution_count": null,
   "id": "23053fac-ed75-42f1-98ea-c0b698745604",
   "metadata": {},
   "outputs": [],
   "source": []
  }
 ],
 "metadata": {
  "kernelspec": {
   "display_name": "Python 3",
   "language": "python",
   "name": "python3"
  },
  "language_info": {
   "codemirror_mode": {
    "name": "ipython",
    "version": 3
   },
   "file_extension": ".py",
   "mimetype": "text/x-python",
   "name": "python",
   "nbconvert_exporter": "python",
   "pygments_lexer": "ipython3",
   "version": "3.8.8"
  }
 },
 "nbformat": 4,
 "nbformat_minor": 5
}
